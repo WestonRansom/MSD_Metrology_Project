{
 "cells": [
  {
   "cell_type": "markdown",
   "id": "b2bf729c-15d2-445a-92db-cfbd1a73fc0f",
   "metadata": {},
   "source": [
    "# Test Scripts for Controling Stepper Motors, Saving, Stitching, and Filtering Images"
   ]
  },
  {
   "cell_type": "markdown",
   "id": "905831c4-41c2-40c5-be2f-66cdaf7407ad",
   "metadata": {},
   "source": [
    "## Control Stepper Motors:\n",
    "### NOTE: Arduino __must__ be plugged into computer, or this script will error"
   ]
  },
  {
   "cell_type": "code",
   "execution_count": 3,
   "id": "9f4faff3-fad8-488e-846c-bf62ea8a23d0",
   "metadata": {
    "ExecuteTime": {
     "end_time": "2023-12-27T17:18:45.283963400Z",
     "start_time": "2023-12-27T17:18:45.176838600Z"
    }
   },
   "outputs": [
    {
     "ename": "FileNotFoundError",
     "evalue": "[Errno 2] No such file or directory: 'C:\\\\Users\\\\Weston Ransom\\\\Downloads\\\\clay_pigeon.gcode'",
     "output_type": "error",
     "traceback": [
      "\u001B[1;31m---------------------------------------------------------------------------\u001B[0m",
      "\u001B[1;31mFileNotFoundError\u001B[0m                         Traceback (most recent call last)",
      "Cell \u001B[1;32mIn[3], line 13\u001B[0m\n\u001B[0;32m     10\u001B[0m s \u001B[38;5;241m=\u001B[39m serial\u001B[38;5;241m.\u001B[39mSerial(\u001B[38;5;124m'\u001B[39m\u001B[38;5;124mCOM21\u001B[39m\u001B[38;5;124m'\u001B[39m, \u001B[38;5;241m115200\u001B[39m)\n\u001B[0;32m     12\u001B[0m \u001B[38;5;66;03m# Open g-code file\u001B[39;00m\n\u001B[1;32m---> 13\u001B[0m f \u001B[38;5;241m=\u001B[39m \u001B[38;5;28mopen\u001B[39m(\u001B[38;5;124mr\u001B[39m\u001B[38;5;124m\"\u001B[39m\u001B[38;5;124mC:\u001B[39m\u001B[38;5;124m\\\u001B[39m\u001B[38;5;124mUsers\u001B[39m\u001B[38;5;124m\\\u001B[39m\u001B[38;5;124mWeston Ransom\u001B[39m\u001B[38;5;124m\\\u001B[39m\u001B[38;5;124mDownloads\u001B[39m\u001B[38;5;124m\\\u001B[39m\u001B[38;5;124mclay_pigeon.gcode\u001B[39m\u001B[38;5;124m\"\u001B[39m, \u001B[38;5;124m'\u001B[39m\u001B[38;5;124mr\u001B[39m\u001B[38;5;124m'\u001B[39m)\n\u001B[0;32m     15\u001B[0m \u001B[38;5;66;03m# Wake up grbl\u001B[39;00m\n\u001B[0;32m     16\u001B[0m s\u001B[38;5;241m.\u001B[39mwrite(\u001B[38;5;124mb\u001B[39m\u001B[38;5;124m\"\u001B[39m\u001B[38;5;130;01m\\r\u001B[39;00m\u001B[38;5;130;01m\\n\u001B[39;00m\u001B[38;5;130;01m\\r\u001B[39;00m\u001B[38;5;130;01m\\n\u001B[39;00m\u001B[38;5;124m\"\u001B[39m)\n",
      "File \u001B[1;32m~\\anaconda3\\Lib\\site-packages\\IPython\\core\\interactiveshell.py:286\u001B[0m, in \u001B[0;36m_modified_open\u001B[1;34m(file, *args, **kwargs)\u001B[0m\n\u001B[0;32m    279\u001B[0m \u001B[38;5;28;01mif\u001B[39;00m file \u001B[38;5;129;01min\u001B[39;00m {\u001B[38;5;241m0\u001B[39m, \u001B[38;5;241m1\u001B[39m, \u001B[38;5;241m2\u001B[39m}:\n\u001B[0;32m    280\u001B[0m     \u001B[38;5;28;01mraise\u001B[39;00m \u001B[38;5;167;01mValueError\u001B[39;00m(\n\u001B[0;32m    281\u001B[0m         \u001B[38;5;124mf\u001B[39m\u001B[38;5;124m\"\u001B[39m\u001B[38;5;124mIPython won\u001B[39m\u001B[38;5;124m'\u001B[39m\u001B[38;5;124mt let you open fd=\u001B[39m\u001B[38;5;132;01m{\u001B[39;00mfile\u001B[38;5;132;01m}\u001B[39;00m\u001B[38;5;124m by default \u001B[39m\u001B[38;5;124m\"\u001B[39m\n\u001B[0;32m    282\u001B[0m         \u001B[38;5;124m\"\u001B[39m\u001B[38;5;124mas it is likely to crash IPython. If you know what you are doing, \u001B[39m\u001B[38;5;124m\"\u001B[39m\n\u001B[0;32m    283\u001B[0m         \u001B[38;5;124m\"\u001B[39m\u001B[38;5;124myou can use builtins\u001B[39m\u001B[38;5;124m'\u001B[39m\u001B[38;5;124m open.\u001B[39m\u001B[38;5;124m\"\u001B[39m\n\u001B[0;32m    284\u001B[0m     )\n\u001B[1;32m--> 286\u001B[0m \u001B[38;5;28;01mreturn\u001B[39;00m io_open(file, \u001B[38;5;241m*\u001B[39margs, \u001B[38;5;241m*\u001B[39m\u001B[38;5;241m*\u001B[39mkwargs)\n",
      "\u001B[1;31mFileNotFoundError\u001B[0m: [Errno 2] No such file or directory: 'C:\\\\Users\\\\Weston Ransom\\\\Downloads\\\\clay_pigeon.gcode'"
     ]
    }
   ],
   "source": [
    "#!/usr/bin/env python\n",
    "\"\"\"\n",
    "Simple g-code streaming script for grbl\n",
    "\"\"\"\n",
    "\n",
    "import serial\n",
    "import time\n",
    "\n",
    "# Open grbl serial port\n",
    "s = serial.Serial('COM21', 115200)\n",
    "\n",
    "# Open g-code file\n",
    "f = open(r\"C:\\Users\\westontest\\Downloads\\3DBenchy.gcode\", 'r')\n",
    "\n",
    "# Wake up grbl\n",
    "s.write(b\"\\r\\n\\r\\n\")\n",
    "time.sleep(2)  # Wait for grbl to initialize\n",
    "s.flushInput()  # Flush startup text in serial input\n",
    "\n",
    "# Stream g-code to grbl\n",
    "for line in f:\n",
    "    l = line.strip()  # Strip all EOL characters for streaming\n",
    "    print('Sending: {}'.format(l))\n",
    "    s.write(l.encode() + b'\\n')  # Send g-code block to grbl\n",
    "    grbl_out = s.readline().decode()  # Wait for grbl response with carriage return\n",
    "    print(' : {}'.format(grbl_out.strip()))\n",
    "\n",
    "# Wait here until grbl is finished to close serial port and file.\n",
    "input(\"  Press <Enter> to exit and disable grbl.\")\n",
    "\n",
    "# Close file and serial port\n",
    "f.close()\n",
    "s.close()\n"
   ]
  },
  {
   "cell_type": "markdown",
   "id": "66a8a499-74a8-473e-9adc-3d60c403a1da",
   "metadata": {},
   "source": [
    "__Save an Image__"
   ]
  },
  {
   "cell_type": "code",
   "execution_count": null,
   "id": "11b8f82b-9211-4750-bf00-06b04fc5c93d",
   "metadata": {
    "is_executing": true,
    "ExecuteTime": {
     "start_time": "2023-12-27T17:58:05.801914300Z"
    }
   },
   "outputs": [
    {
     "name": "stdout",
     "output_type": "stream",
     "text": [
      "s: Save an image\n",
      "q: End program\n",
      "s: Save an image\n",
      "q: End program\n",
      "s: Save an image\n",
      "q: End program\n",
      "s: Save an image\n",
      "q: End program\n",
      "s: Save an image\n",
      "q: End program\n",
      "s: Save an image\n",
      "q: End program\n",
      "s: Save an image\n",
      "q: End program\n",
      "s: Save an image\n",
      "q: End program\n",
      "s: Save an image\n",
      "q: End program\n",
      "s: Save an image\n",
      "q: End program\n",
      "s: Save an image\n",
      "q: End program\n",
      "s: Save an image\n",
      "q: End program\n",
      "s: Save an image\n",
      "q: End program\n",
      "s: Save an image\n",
      "q: End program\n",
      "s: Save an image\n",
      "q: End program\n",
      "s: Save an image\n",
      "q: End program\n",
      "s: Save an image\n",
      "q: End program\n",
      "s: Save an image\n",
      "q: End program\n",
      "s: Save an image\n",
      "q: End program\n",
      "s: Save an image\n",
      "q: End program\n",
      "s: Save an image\n",
      "q: End program\n",
      "s: Save an image\n",
      "q: End program\n",
      "s: Save an image\n",
      "q: End program\n",
      "s: Save an image\n",
      "q: End program\n",
      "s: Save an image\n",
      "q: End program\n",
      "s: Save an image\n",
      "q: End program\n",
      "s: Save an image\n",
      "q: End program\n",
      "s: Save an image\n",
      "q: End program\n",
      "s: Save an image\n",
      "q: End program\n",
      "s: Save an image\n",
      "q: End program\n",
      "s: Save an image\n",
      "q: End program\n",
      "s: Save an image\n",
      "q: End program\n",
      "s: Save an image\n",
      "q: End program\n",
      "s: Save an image\n",
      "q: End program\n",
      "s: Save an image\n",
      "q: End program\n",
      "s: Save an image\n",
      "q: End program\n",
      "s: Save an image\n",
      "q: End program\n",
      "s: Save an image\n",
      "q: End program\n",
      "s: Save an image\n",
      "q: End program\n",
      "s: Save an image\n",
      "q: End program\n"
     ]
    }
   ],
   "source": [
    "import ctypes \n",
    "import tisgrabber as tis\n",
    "\n",
    "ic = ctypes.cdll.LoadLibrary(\"./tisgrabber_x64.dll\")\n",
    "\n",
    "tis.declareFunctions(ic)\n",
    "\n",
    "ic.IC_InitLibrary(0)\n",
    "\n",
    "hGrabber = tis.openDevice(ic)\n",
    "\n",
    "if(ic.IC_IsDevValid(hGrabber)):\n",
    "    ic.IC_StartLive(hGrabber, 1)\n",
    "    key = \"\"\n",
    "    while key != \"q\":\n",
    "        print(\"s: Save an image\")\n",
    "        print(\"q: End program\")\n",
    "        key = input('Enter your choice:')\n",
    "        if key == \"s\":\n",
    "            if ic.IC_SnapImage(hGrabber, 2000) == tis.IC_SUCCESS:\n",
    "                ic.IC_SaveImage(hGrabber, tis.T(\"test.jpg\"),\n",
    "                                tis.ImageFileTypes['JPEG'], 90)\n",
    "                print(\"Image saved.\")\n",
    "            else:\n",
    "                print(\"No frame received in 2 seconds.\")\n",
    "\n",
    "    ic.IC_StopLive(hGrabber)\n",
    "else:\n",
    "    ic.IC_MsgBox(tis.T(\"No device opened\"), tis.T(\"Simple Live Video\"))\n",
    "\n",
    "ic.IC_ReleaseGrabber(hGrabber)\n"
   ]
  },
  {
   "cell_type": "markdown",
   "id": "cfad6cea-a1cb-46e0-8d6e-2fde7dd9a064",
   "metadata": {},
   "source": [
    "__Image Stitching__"
   ]
  },
  {
   "cell_type": "code",
   "execution_count": null,
   "id": "b32d5f2f-9166-41cc-a077-d1aa678f6698",
   "metadata": {},
   "outputs": [],
   "source": [
    "from PIL import Image\n",
    "\n",
    "img_01 = Image.open(\"1.bmp\")\n",
    "img_02 = Image.open(\"2.bmp\")\n",
    "img_03 = Image.open(\"3.bmp\")\n",
    "img_04 = Image.open(\"4.bmp\")\n",
    "img_05 = Image.open(\"5.bmp\")\n",
    "img_06 = Image.open(\"6.bmp\")\n",
    "img_07 = Image.open(\"7.bmp\")\n",
    "img_08 = Image.open(\"8.bmp\")\n",
    "\n",
    "img_01_size = img_01.size\n",
    "img_02_size = img_02.size\n",
    "img_03_size = img_03.size\n",
    "img_04_size = img_04.size\n",
    "img_05_size = img_05.size\n",
    "img_06_size = img_06.size\n",
    "img_07_size = img_07.size\n",
    "img_08_size = img_08.size\n",
    "\n",
    "print('img 1 size: ', img_01_size)\n",
    "print('img 2 size: ', img_02_size)\n",
    "print('img 3 size: ', img_03_size)\n",
    "print('img 4 size: ', img_04_size)\n",
    "print('img 5 size: ', img_05_size)\n",
    "print('img 6 size: ', img_06_size)\n",
    "print('img 7 size: ', img_07_size)\n",
    "print('img 8 size: ', img_08_size)\n",
    "\n",
    "new_im = Image.new('RGB', (img_01_size[0], 8 * img_01_size[1]), (250, 250, 250))\n",
    "\n",
    "new_im.paste(img_01, (0, 0))\n",
    "new_im.paste(img_02, (0, img_01_size[1]))\n",
    "new_im.paste(img_03, (0, 2 * img_01_size[1]))\n",
    "new_im.paste(img_04, (0, 3 * img_01_size[1]))\n",
    "new_im.paste(img_05, (0, 4 * img_01_size[1]))\n",
    "new_im.paste(img_06, (0, 5 * img_01_size[1]))\n",
    "new_im.paste(img_07, (0, 6 * img_01_size[1]))\n",
    "new_im.paste(img_08, (0, 7 * img_01_size[1]))\n",
    "\n",
    "new_im.save(\"merged_images.png\", \"PNG\")\n",
    "new_im.show()\n"
   ]
  },
  {
   "cell_type": "code",
   "execution_count": null,
   "id": "77dea8f3-b866-4930-8a57-3b243c921e96",
   "metadata": {},
   "outputs": [],
   "source": [
    "from PIL import Image, ImageFilter,ImageChops\n",
    " \n",
    "img = Image.open(\"merged_images.png\")\n",
    " \n",
    "# Converting the image to grayscale, as Sobel Operator requires\n",
    "# input image to be of mode Grayscale (L)\n",
    "img = img.convert(\"L\")\n",
    " \n",
    "# Calculating Edges using the passed laplacian Kernel\n",
    "final = img.filter(ImageFilter.Kernel((3, 3), (-1, -1, -1, -1, 8,\n",
    "                                          -1, -1, -1, -1), 1, 0))\n",
    "\n",
    "inverted_image = ImageChops.invert(img)\n",
    "inverted_image.save(\"Inverted_EDGE_sample.png\", \"PNG\")\n",
    "inverted_image.show()"
   ]
  },
  {
   "cell_type": "code",
   "execution_count": null,
   "id": "8eacdf89-f049-4793-a1a8-939d5ac6220f",
   "metadata": {},
   "outputs": [],
   "source": []
  }
 ],
 "metadata": {
  "kernelspec": {
   "display_name": "Python 3 (ipykernel)",
   "language": "python",
   "name": "python3"
  },
  "language_info": {
   "codemirror_mode": {
    "name": "ipython",
    "version": 3
   },
   "file_extension": ".py",
   "mimetype": "text/x-python",
   "name": "python",
   "nbconvert_exporter": "python",
   "pygments_lexer": "ipython3",
   "version": "3.11.1"
  }
 },
 "nbformat": 4,
 "nbformat_minor": 5
}
